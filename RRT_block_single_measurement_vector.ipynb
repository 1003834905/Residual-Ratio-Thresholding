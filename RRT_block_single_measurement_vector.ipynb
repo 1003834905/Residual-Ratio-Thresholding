{
 "cells": [
  {
   "cell_type": "markdown",
   "metadata": {},
   "source": [
    "# Problem Statement\n",
    "\n",
    "Consider a single measurement vector (SMV) linear regression model $${\\bf y}={\\bf X}\\boldsymbol{\\beta}+{\\bf w}$$ where ${\\bf X} \\in \\mathbb{R}^{nsamples\\times nfeatures} $ is a known design matrix and $\\boldsymbol{\\beta} \\in \\mathbb{R}^{nfeatures\\times 1}$ is an unknown block sparse vector. The nfeatures entries in $\\boldsymbol{\\beta}$ are divided into $nblocks=nfeatures/block-size$ number of equal blocks with each block having $block-size$ number of entries.   The block support of $\\boldsymbol{\\beta}$ denoted by $\\mathcal{S}_b=\\{k:\\boldsymbol{\\beta}_k\\neq {\\bf 0}_{block_size}\\}$ satisfies $k_b=cardinality(\\mathcal{S}_b)\\ll nblocks$. ${\\bf w} \\in \\mathbb{R}^{nsamples\\times 1}$ is a noise vector (for theoretical purposes only)  with each entries $\\mathcal{N}(0,\\sigma^2)$ distributed. \n",
    "\n",
    "The problem we address here is the estimation of $\\boldsymbol{\\beta}$ when $k_b$ and $\\sigma^2$ are both unknown. We consider a high dimensional scenario where $nsamples\\ll nfeatures$. Under these constraints, it is difficult to estimate $\\boldsymbol{\\beta}$ and $ \\mathcal{S}_b$ with finite sample guarantees.  Most (not all) popular sparse recovery algorithms including block OMP (also group OMP), group LASSO etc. can deliver estimation  with theoretical (especially restricted isometry property ) guarantees require $\\textit{a priori}$ knowledge of $k_b$ and/or $\\sigma^2$. Algorithms that does not require such a priori information are group square root LASSO, group SPICE, SBL etc. \n",
    "\n",
    "In our 2018 ICML paper http://proceedings.mlr.press/v80/kallummil18a.html we proposed residual ratio thresholding (RRT) as a tool to estimate $\\boldsymbol{\\beta}$ using OMP without requiring $\\textit{a priori}$ knowledge ofsparsity and/or $\\sigma^2$. This concept was later extended in a recent article (https://arxiv.org/pdf/1912.08637.pdf under review in IEEE TSP) to operate block OMP without requiring $\\textit{a priori}$ knowledge of $k_b$ and/or $\\sigma^2$.\n",
    "Here, we illustrate  how to use RRT in this problem setting. \n"
   ]
  },
  {
   "cell_type": "markdown",
   "metadata": {},
   "source": [
    "# Concept  of RRT\n",
    "\n",
    "Suppose we are given an ordered sequence of block support estimates $\\mathcal{S_1},\\mathcal{S}_2...\\mathcal{S}_{k_{max}}$ such that  a $card(\\mathcal{S}_k)=k$ and $\\mathcal{S}_k\\subset \\mathcal{S}_{k+1}$.  Corresponding to each support $\\mathcal{S}_k$, one can compute the corresponding least squares residuals as ${\\bf R}^k=({\\bf I}_{nsamples}-{\\bf P}(\\mathcal{S}_k)){\\bf Y}$, where ${\\bf P}(\\mathcal{S}_k)$ is the projection onto the subspace spanned by the columns in ${\\bf X}[:,true_support(\\mathcal{S}_k)]$ and $true_support(\\mathcal{S_k})$ is the true support corresponding to the block support.  The corresponding residual ratios are defined as $$RR(k)=\\dfrac{\\|{\\bf R}^k\\|_2}{\\|{\\bf R}^{k-1}\\|_2}$$. \n",
    "\n",
    "This statistic satisfies some interesting properties. For starters, $$0\\leq RR(k)\\leq 1$$\n",
    "\n",
    "Under appropriate conditions on the matrix ${\\bf X}$, SNR and sparsity $k_b$, many algorithms can generate support estimate sequences that satisfy $\\mathcal{S}_{k_b}=\\mathcal{S}_b$, the true unknown block support of $\\boldsymbol{\\beta}$. If those conditions are true then \n",
    "\n",
    "$$1). \\ \\ RR(k_b)\\rightarrow 0  \\ \\text{as} \\ \\sigma^2\\rightarrow 0$$.  \n",
    "\n",
    "$$2). \\ \\ \\mathbb{P}(RR(k)>\\Gamma_{RRT}^{\\alpha}(k),\\ \\text{for all} \\ k=k_b+1,....k_{max})>1-\\alpha$$\n",
    "\n",
    "where $$\\Gamma_{RRT}^{\\alpha}(k)=\\sqrt{F_{\\frac{nsamples-k\\times block-size}{2},\\frac{block-size}{2}}^{-1}\\left(\\frac{\\alpha}{(nblocks-k+1)}\\right)}$$\n",
    "is a sequence of RRT thresholds. $F_{a,b}(x)$ is the CDF of a Beta random variable with parameters $a$ and $b$ and $F^{-1}$ is the inverse function of $F$.  \n",
    "\n",
    "Properties 1 and 2 of $RR(k)$ means that the RRT estimate of sparsity given by $$k_{RRT}=\\max\\{k:RR(k)\\leq \\Gamma_{RRT}^{\\alpha}(k)\\}$$ will be equal to true unknown block sparsity $k_b$ and $\\mathcal{S}_{k_{RRT}}$ will be equal to the true unknown support $\\mathcal{S}_b$ at high enough SNR. \n",
    "\n",
    "\n"
   ]
  },
  {
   "cell_type": "markdown",
   "metadata": {},
   "source": [
    "# Usage\n",
    "\n",
    "${\\bf Given}$:  Y and X. We assume that X has unit $l_2$ norm columns. \n",
    "\n",
    "${\\bf Step\\  1\\ :}$ bsmv=single_measurement_vector()\n",
    "\n",
    "${\\bf Step \\ 2\\ :}$ estimate_support_dict=bsmv.compute_signal_and_support(X,Y,block_size=block_size,\n",
    "                        algorithm='BOMP',alpha_list=[0.1])\n",
    "\n",
    "${\\bf Inputs: }$ algorithm has to be 'BOMP';\n",
    "alpha_list=[$\\alpha_1$,$\\alpha_2$,...] the set of RRT thresholds $\\alpha$ for which the estimates of $\\boldsymbol{\n",
    "\\beta}$ and support $\\mathcal{S}_b$ are to be computed. \n",
    "\n",
    "${\\bf Outputs:}$  estimate_support_dict is a dictionary with keys $\\alpha$ and values another dictionary dict. dict['support_estimate'] and dict['signal_estimate'] give the  estimates of $\\mathcal{S}_b$ and $\\boldsymbol{\\beta}$ corresponding to the RRT threshold $\\alpha$.\n",
    "\n",
    "\n"
   ]
  },
  {
   "cell_type": "markdown",
   "metadata": {},
   "source": [
    "# How to use functions other than BOMP in  RRT framework. \n",
    "\n",
    "Any algorithm called 'Alg' that can deliver a block support estimate of the form $\\mathcal{S}_k=Alg(X,Y,k)$ with $card(\\mathcal{S}_k)=k$ can be used in RRT. Please construct a new function $$\\text{res_ratio},\\text{ordered_support_estimate_sequence}=\\text{self.Alg_run()}$$\n",
    "in block_single_measurement_vector.py This can be achieved as follows. \n",
    "\n",
    "\n",
    "${\\bf Step 1}$: Generate $\\mathcal{S}_k=Alg(X,Y,k)$ for k=1,2,..,$k_{max}$. We typically set $k_{max}=\\min\\left(nfeatures,0.5(nsamples+1)\\right)$. \n",
    "\n",
    "${\\bf Step 2:}$ The block support sequence generated by Alg may not be monotonically increasing, i.e., $\\mathcal{S}_k\\subset \\mathcal{S}_{k+1}$. Convert non monotnic support sequence to monotonic support sequence \n",
    "\n",
    "    a). ordered_support_estimate_sequence= self.generate_ordered_sequence(block_support_estimate_sequence)\n",
    "    \n",
    "${\\bf Step 3:}$  Generate residual ratios corresponding to the ordered_block_support_estimate_sequence. \n",
    "\n",
    "    a). res_ratios=self.res_ratios_from_ordered_sequence(ordered_support_estimate_sequence)\n",
    "    \n"
   ]
  },
  {
   "cell_type": "markdown",
   "metadata": {},
   "source": [
    "# Other utility functions\n",
    "\n",
    "    1). X,Y,Beta,block_support,noisevar=bsmv.generate_random_example(nsamples=32,nfeatures=64,block_size=4,\n",
    "                                                sparsity=3,SNR_db=20)\n",
    "    \n",
    "This function generates a linear regression model using Gaussian matrices which is further normalized to have $l_2$ columns, a block sparse vector with non zero entries randomly assigned $\\pm1$  and Gaussian noise of noise variance determined by the required SNR. \n",
    "\n",
    "    2). support_error,l2_error=bsmv.compute_error(support_true,support_estimate,\n",
    "                                                 Beta_true,Beta_estimate)\n",
    "                                                \n",
    "This function computes the support recovery error (=1 if support estimate!= support_true else 0) and $l_2$ error between $\\boldsymbol{\\beta}$ and its estimate.  \n",
    "\n",
    "    3). block_support_est,Beta_est=bsmv.BOMP_prior_sparsity(X,Y,sparsity=len(block_support))\n",
    "    \n",
    "This function computes BOMP support estimate when provided with the apriori value of sparsity level $k_b$. Good baseline. \n",
    "                    "
   ]
  },
  {
   "cell_type": "markdown",
   "metadata": {},
   "source": [
    "###  Example: Generate a sparse regression problem\n"
   ]
  },
  {
   "cell_type": "code",
   "execution_count": 1,
   "metadata": {},
   "outputs": [],
   "source": [
    "import numpy as np\n",
    "import matplotlib.pyplot as plt\n",
    "import os,sys\n",
    "from codes.block_single_measurement_vector import block_single_measurement_vector\n"
   ]
  },
  {
   "cell_type": "code",
   "execution_count": 2,
   "metadata": {},
   "outputs": [
    {
     "name": "stdout",
     "output_type": "stream",
     "text": [
      "Unknown sparse vector Beta is\n",
      "[ 0.  0.  0.  0.  0.  0.  0.  0.  0.  0.  0.  0.  0.  0.  0.  0.  0.  0.\n",
      "  0.  0.  0.  0.  0.  0.  0.  0.  0.  0.  0.  0.  0.  0.  0.  0.  0.  0.\n",
      "  0.  0.  0.  0.  0.  0.  0.  0.  0.  0.  0.  0.  0.  0.  0.  0.  0.  0.\n",
      "  0.  0.  0.  0.  0.  0. -1. -1. -1.  1.  0.  0.  0.  0.  0.  0.  0.  0.\n",
      "  0.  0.  0.  0.  0.  0.  0.  0. -1.  1.  1.  1.  0.  0.  0.  0.  0.  0.\n",
      "  0.  0.  0.  0.  0.  0.  0.  0.  0.  0.  0.  0.  0.  0.  0.  0.  0.  0.\n",
      " -1. -1.  1. -1.  0.  0.  0.  0.  0.  0.  0.  0.  0.  0.  0.  0.  0.  0.\n",
      "  0.  0.]\n",
      "Support of Beta is\n",
      "[15, 20, 27]\n"
     ]
    }
   ],
   "source": [
    "bsmv=block_single_measurement_vector();\n",
    "X,Y,Beta_true,block_support_true,noisevar=bsmv.generate_random_example(nsamples=64,nfeatures=128,block_size=4,\n",
    "                                                                sparsity=3,SNR_db=20)\n",
    "print('Unknown sparse vector Beta is')\n",
    "print(Beta_true.flatten())\n",
    "print('Support of Beta is')\n",
    "print(block_support_true)"
   ]
  },
  {
   "cell_type": "markdown",
   "metadata": {},
   "source": [
    "### Example: RRT estimation"
   ]
  },
  {
   "cell_type": "code",
   "execution_count": 3,
   "metadata": {},
   "outputs": [
    {
     "name": "stdout",
     "output_type": "stream",
     "text": [
      "True_support\n",
      "[15, 20, 27]\n",
      "Estimated_support:BOMP\n",
      "[15, 20, 27]\n"
     ]
    },
    {
     "data": {
      "text/plain": [
       "array([[ 0.        ],\n",
       "       [ 0.        ],\n",
       "       [ 0.        ],\n",
       "       [ 0.        ],\n",
       "       [ 0.        ],\n",
       "       [ 0.        ],\n",
       "       [ 0.        ],\n",
       "       [ 0.        ],\n",
       "       [ 0.        ],\n",
       "       [ 0.        ],\n",
       "       [ 0.        ],\n",
       "       [ 0.        ],\n",
       "       [ 0.        ],\n",
       "       [ 0.        ],\n",
       "       [ 0.        ],\n",
       "       [ 0.        ],\n",
       "       [ 0.        ],\n",
       "       [ 0.        ],\n",
       "       [ 0.        ],\n",
       "       [ 0.        ],\n",
       "       [ 0.        ],\n",
       "       [ 0.        ],\n",
       "       [ 0.        ],\n",
       "       [ 0.        ],\n",
       "       [ 0.        ],\n",
       "       [ 0.        ],\n",
       "       [ 0.        ],\n",
       "       [ 0.        ],\n",
       "       [ 0.        ],\n",
       "       [ 0.        ],\n",
       "       [ 0.        ],\n",
       "       [ 0.        ],\n",
       "       [ 0.        ],\n",
       "       [ 0.        ],\n",
       "       [ 0.        ],\n",
       "       [ 0.        ],\n",
       "       [ 0.        ],\n",
       "       [ 0.        ],\n",
       "       [ 0.        ],\n",
       "       [ 0.        ],\n",
       "       [ 0.        ],\n",
       "       [ 0.        ],\n",
       "       [ 0.        ],\n",
       "       [ 0.        ],\n",
       "       [ 0.        ],\n",
       "       [ 0.        ],\n",
       "       [ 0.        ],\n",
       "       [ 0.        ],\n",
       "       [ 0.        ],\n",
       "       [ 0.        ],\n",
       "       [ 0.        ],\n",
       "       [ 0.        ],\n",
       "       [ 0.        ],\n",
       "       [ 0.        ],\n",
       "       [ 0.        ],\n",
       "       [ 0.        ],\n",
       "       [ 0.        ],\n",
       "       [ 0.        ],\n",
       "       [ 0.        ],\n",
       "       [ 0.        ],\n",
       "       [-0.99677945],\n",
       "       [-0.95990223],\n",
       "       [-1.02469421],\n",
       "       [ 1.04192457],\n",
       "       [ 0.        ],\n",
       "       [ 0.        ],\n",
       "       [ 0.        ],\n",
       "       [ 0.        ],\n",
       "       [ 0.        ],\n",
       "       [ 0.        ],\n",
       "       [ 0.        ],\n",
       "       [ 0.        ],\n",
       "       [ 0.        ],\n",
       "       [ 0.        ],\n",
       "       [ 0.        ],\n",
       "       [ 0.        ],\n",
       "       [ 0.        ],\n",
       "       [ 0.        ],\n",
       "       [ 0.        ],\n",
       "       [ 0.        ],\n",
       "       [-1.0433028 ],\n",
       "       [ 0.94428534],\n",
       "       [ 1.00196681],\n",
       "       [ 0.97852734],\n",
       "       [ 0.        ],\n",
       "       [ 0.        ],\n",
       "       [ 0.        ],\n",
       "       [ 0.        ],\n",
       "       [ 0.        ],\n",
       "       [ 0.        ],\n",
       "       [ 0.        ],\n",
       "       [ 0.        ],\n",
       "       [ 0.        ],\n",
       "       [ 0.        ],\n",
       "       [ 0.        ],\n",
       "       [ 0.        ],\n",
       "       [ 0.        ],\n",
       "       [ 0.        ],\n",
       "       [ 0.        ],\n",
       "       [ 0.        ],\n",
       "       [ 0.        ],\n",
       "       [ 0.        ],\n",
       "       [ 0.        ],\n",
       "       [ 0.        ],\n",
       "       [ 0.        ],\n",
       "       [ 0.        ],\n",
       "       [ 0.        ],\n",
       "       [ 0.        ],\n",
       "       [-0.89312558],\n",
       "       [-0.98156909],\n",
       "       [ 0.90773442],\n",
       "       [-1.03842476],\n",
       "       [ 0.        ],\n",
       "       [ 0.        ],\n",
       "       [ 0.        ],\n",
       "       [ 0.        ],\n",
       "       [ 0.        ],\n",
       "       [ 0.        ],\n",
       "       [ 0.        ],\n",
       "       [ 0.        ],\n",
       "       [ 0.        ],\n",
       "       [ 0.        ],\n",
       "       [ 0.        ],\n",
       "       [ 0.        ],\n",
       "       [ 0.        ],\n",
       "       [ 0.        ],\n",
       "       [ 0.        ],\n",
       "       [ 0.        ]])"
      ]
     },
     "execution_count": 3,
     "metadata": {},
     "output_type": "execute_result"
    }
   ],
   "source": [
    "results_bomp_dict=bsmv.compute_signal_and_support(X=X,Y=Y,algorithm='BOMP',alpha_list=[0.1])\n",
    "print('True_support')\n",
    "print(block_support_true)\n",
    "print('Estimated_support:BOMP')\n",
    "print(results_bomp_dict[0.1]['support_estimate'])\n",
    "Beta_est_bomp=results_bomp_dict[0.1]['signal_estimate']\n",
    "Beta_est_bomp"
   ]
  },
  {
   "cell_type": "markdown",
   "metadata": {},
   "source": [
    "# Evaluating performance. \n",
    "\n",
    "We compare the performance of BOMP operated using RRT against a simple baseline. A BOMP algorithm operated using a priori knowledge of sparsity $k_b$. Except at low SNR, BOMP operated using RRT matches the support aware oracle. In our papers, we compare RRT with BOMP  provided with noise variance also.  IN most of our experiments, we found that the performance GAP between BOMP with a priori known sparsity $k_b$ and noise variance and BOMP operate dusing RRT is minimal. "
   ]
  },
  {
   "cell_type": "code",
   "execution_count": 7,
   "metadata": {},
   "outputs": [],
   "source": [
    "SNR_db=np.linspace(0,30,10)\n",
    "L2_ERROR_BOMP=np.zeros(10);L2_ERROR_BASELINE=np.zeros(10)\n",
    "SUPPORT_ERROR_BOMP=np.zeros(10);SUPPORT_ERROR_BASELINE=np.zeros(10)\n",
    "num_iter=1000; # number of montecarlo iterations for each example. \n",
    "nsamples=32;nfeatures=64;sparsity=3;block_size=4;\n",
    "\n",
    "\n",
    "for s in np.arange(len(SNR_db)):\n",
    "    snr_db=SNR_db[s]\n",
    "    l2_error_bomp=0;l2_error_baseline=0;\n",
    "    support_error_bomp=0;support_error_baseline=0;\n",
    "    for num in np.arange(num_iter):\n",
    "        X,Y,Beta_true,block_support_true,noisevar=bsmv.generate_random_example(nsamples=nsamples,nfeatures=nfeatures,\n",
    "                                                                block_size=block_size,\n",
    "                                                                sparsity=sparsity,SNR_db=snr_db)\n",
    "        results_bomp_dict=bsmv.compute_signal_and_support(X=X,Y=Y,algorithm='BOMP',alpha_list=[0.1])\n",
    "        block_support_estimate_bomp=results_bomp_dict[0.1]['support_estimate']\n",
    "        Beta_est_bomp=results_bomp_dict[0.1]['signal_estimate']\n",
    "        \n",
    "        support_error,l2_error=bsmv.compute_error(block_support_true=block_support_true,\n",
    "                                                  block_support_estimate=block_support_estimate_bomp,\n",
    "                                                 Beta_true=Beta_true,Beta_estimate=Beta_est_bomp)\n",
    "        l2_error_bomp+=l2_error;support_error_bomp+=support_error\n",
    "        \n",
    "        block_support_estimate_baseline,Beta_est_baseline=bsmv.BOMP_prior_sparsity(X,Y,block_size=block_size,\n",
    "                                                                                   sparsity=len(block_support_true))\n",
    "        support_error,l2_error=bsmv.compute_error(block_support_true=block_support_true,\n",
    "                                                 block_support_estimate=block_support_estimate_baseline,\n",
    "                                                 Beta_true=Beta_true,Beta_estimate=Beta_est_baseline)\n",
    "        l2_error_baseline+=l2_error;support_error_baseline+=support_error;\n",
    "        \n",
    "    L2_ERROR_BOMP[s]=l2_error_bomp/num_iter;L2_ERROR_BASELINE[s]=l2_error_baseline/num_iter\n",
    "    SUPPORT_ERROR_BOMP[s]=support_error_bomp/num_iter;\n",
    "    SUPPORT_ERROR_BASELINE[s]=support_error_baseline/num_iter\n",
    "\n"
   ]
  },
  {
   "cell_type": "code",
   "execution_count": 8,
   "metadata": {},
   "outputs": [
    {
     "data": {
      "text/plain": [
       "Text(0, 0.5, 'support_recovery_error')"
      ]
     },
     "execution_count": 8,
     "metadata": {},
     "output_type": "execute_result"
    },
    {
     "data": {
      "image/png": "[encoded data removed]",
      "text/plain": [
       "<Figure size 864x432 with 2 Axes>"
      ]
     },
     "metadata": {
      "needs_background": "light"
     },
     "output_type": "display_data"
    }
   ],
   "source": [
    "plt.figure(figsize=(12,6))\n",
    "plt.subplot(1,2,1)\n",
    "plt.semilogy(SNR_db,L2_ERROR_BOMP,label='BOMP+RRT')\n",
    "plt.semilogy(SNR_db,L2_ERROR_BASELINE,label='sparsity aware BOMP')\n",
    "plt.grid()\n",
    "plt.legend()\n",
    "plt.xlabel('SNR in DB')\n",
    "plt.ylabel('l2_error')  \n",
    "\n",
    "plt.subplot(1,2,2)\n",
    "plt.semilogy(SNR_db,SUPPORT_ERROR_BOMP,label='BOMP+RRT')\n",
    "plt.semilogy(SNR_db,SUPPORT_ERROR_BASELINE,label='sparsity aware BOMP')\n",
    "plt.grid()\n",
    "plt.legend()\n",
    "plt.xlabel('SNR in DB')\n",
    "plt.ylabel('support_recovery_error')  "
   ]
  },
  {
   "cell_type": "code",
   "execution_count": null,
   "metadata": {},
   "outputs": [],
   "source": []
  }
 ],
 "metadata": {
  "kernelspec": {
   "display_name": "Python 3",
   "language": "python",
   "name": "python3"
  },
  "language_info": {
   "codemirror_mode": {
    "name": "ipython",
    "version": 3
   },
   "file_extension": ".py",
   "mimetype": "text/x-python",
   "name": "python",
   "nbconvert_exporter": "python",
   "pygments_lexer": "ipython3",
   "version": "3.6.10"
  }
 },
 "nbformat": 4,
 "nbformat_minor": 4
}
